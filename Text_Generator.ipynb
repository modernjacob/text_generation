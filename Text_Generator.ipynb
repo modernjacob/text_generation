{
 "cells": [
  {
   "cell_type": "code",
   "execution_count": 7,
   "id": "4b771aa2",
   "metadata": {},
   "outputs": [],
   "source": [
    "import random\n",
    "import numpy as np \n",
    "import pandas as pd\n",
    "from nltk.tokenize import RegexpTokenizer"
   ]
  },
  {
   "cell_type": "code",
   "execution_count": 8,
   "id": "6310b24e",
   "metadata": {},
   "outputs": [
    {
     "name": "stderr",
     "output_type": "stream",
     "text": [
      "2023-04-28 13:52:29.570113: I tensorflow/core/platform/cpu_feature_guard.cc:182] This TensorFlow binary is optimized to use available CPU instructions in performance-critical operations.\n",
      "To enable the following instructions: AVX2 FMA, in other operations, rebuild TensorFlow with the appropriate compiler flags.\n"
     ]
    }
   ],
   "source": [
    "import tensorflow\n",
    "from tensorflow import keras\n",
    "from keras.optimizers import RMSprop\n",
    "from tensorflow.keras.models import Sequential, load_model\n",
    "from tensorflow.keras.layers import LSTM, Dense, Activation"
   ]
  },
  {
   "cell_type": "code",
   "execution_count": 4,
   "id": "7d813d7f",
   "metadata": {},
   "outputs": [
    {
     "name": "stdout",
     "output_type": "stream",
     "text": [
      "['is', 'one', 'and', 'the', 'same', 'at', 'all', 'times', 'and', 'in', 'every', 'place.', '29', 'Truth', 'teaches', 'us', 'the', 'noble', 'eightfold', 'path', 'of', 'righteousness,', 'and', 'it', 'is', 'a', 'straight', 'path', 'easily', 'found', 'by', 'the', 'truth-loving.', 'Happy', 'are', 'those', 'who', 'walk', 'in', 'it.']\n",
      "68744\n",
      "['truth', 'is', 'one', 'and', 'the', 'same', 'at', 'all', 'times', 'and', 'in', 'every', 'place.', 'Truth', 'teaches', 'us', 'the', 'noble', 'eightfold', 'path', 'of', 'righteousness,', 'and', 'it', 'is', 'a', 'straight', 'path', 'easily', 'found', 'by', 'the', 'truth-loving.', 'Happy', 'are', 'those', 'who', 'walk', 'in', 'it.']\n",
      "67193\n"
     ]
    }
   ],
   "source": [
    "# read file\n",
    "with open(\"/Users/jacobhuckleberry/Desktop/Code/Text Generation/data/gospel_of_buddha.txt\", \"r\") as file:\n",
    "    raw_text = file.read()\n",
    "\n",
    "# creating a list of all the text values from text column\n",
    "text_list = raw_text.split()\n",
    "print(text_list[-40:])\n",
    "print(len(text_list))\n",
    "\n",
    "# remove verse numbers from text list\n",
    "only_text_list = []\n",
    "for word in text_list:\n",
    "    if not word.isdigit():\n",
    "        only_text_list.append(word)\n",
    "\n",
    "# test\n",
    "print(only_text_list[-40:])\n",
    "print(len(only_text_list))\n",
    "\n",
    "# joining all text with a space in between\n",
    "buddha_text_joined = \" \".join(only_text_list)\n"
   ]
  },
  {
   "attachments": {},
   "cell_type": "markdown",
   "id": "2b660613",
   "metadata": {},
   "source": [
    "<b>Building Training Data</b>"
   ]
  },
  {
   "cell_type": "code",
   "execution_count": 5,
   "id": "23380cff",
   "metadata": {},
   "outputs": [],
   "source": [
    "# creating a smaller subset of test\n",
    "partial_text = buddha_text_joined[:34000]"
   ]
  },
  {
   "cell_type": "code",
   "execution_count": 10,
   "id": "7d34b3fa",
   "metadata": {},
   "outputs": [],
   "source": [
    "\"\"\"\n",
    "instantiate tokenizer\n",
    "r for raw String\n",
    "\\w matchs alpanumeric characters\n",
    "+ quantifier states the preceding character \"\\w\" must match one or more occurences\n",
    "\"\"\" \n",
    "tokenizer = RegexpTokenizer(r\"\\w+\")\n",
    "tokens = tokenizer.tokenize(buddha_text_joined.lower())"
   ]
  },
  {
   "cell_type": "code",
   "execution_count": 11,
   "id": "9e9bc05d",
   "metadata": {},
   "outputs": [],
   "source": [
    "# get unique words with numpy unique function\n",
    "unique_tokens = np.unique(tokens)\n",
    "# create a dictionary from enumerate function as token: id,\n",
    "unique_tokens_index = {token: idx for idx, token in enumerate(unique_tokens)}"
   ]
  },
  {
   "cell_type": "code",
   "execution_count": 12,
   "id": "e55b1b6f",
   "metadata": {},
   "outputs": [],
   "source": [
    "# want to look at the last n_words to get context from the sentence to predict the next word\n",
    "n_words = 10\n",
    "input_words = []\n",
    "next_words = []\n",
    "\n",
    "# from joined_text we add the past n words to input_words list to get the context of sentence\n",
    "# append the 11th next word into next_words list\n",
    "for i in range(len(tokens) - n_words):\n",
    "    input_words.append(tokens[i : i + n_words])\n",
    "    next_words.append(tokens[i + n_words])"
   ]
  },
  {
   "cell_type": "code",
   "execution_count": 13,
   "id": "a49b1ef9",
   "metadata": {},
   "outputs": [],
   "source": [
    "\"\"\"\n",
    "numpy arrays (matrices) are filled with zeros with the shape of the lists and specified data type\n",
    "Utilizes to triain the model with binary data\n",
    "X has 3D array with boolean data type\n",
    "y has 2D array with boolean data type\n",
    "\"\"\"\n",
    "# initializing the structure or dimensions of the X and y training data\n",
    "X = np.zeros((len(input_words), n_words, len(unique_tokens)), dtype=bool)\n",
    "y = np.zeros((len(next_words), len(unique_tokens)), dtype=bool)"
   ]
  },
  {
   "cell_type": "code",
   "execution_count": 14,
   "id": "59973ca0",
   "metadata": {},
   "outputs": [],
   "source": [
    "# setting the target word for X and y np array to 1 (whereas all others are 0)\n",
    "# iterating into each sample text (10 words)\n",
    "for i, words in enumerate(input_words):\n",
    "    #iterating over each word within the whole sample\n",
    "    for j, word in enumerate(words):\n",
    "        #enter into X numpy array and set the position of word to 1 (or True)\n",
    "        X[i, j, unique_tokens_index[word]] = 1\n",
    "    #enter into y numpy array and set target position to 1 (ot True)\n",
    "    y[i, unique_tokens_index[next_words[i]]] = 1\n"
   ]
  },
  {
   "attachments": {},
   "cell_type": "markdown",
   "id": "ae2ac558",
   "metadata": {},
   "source": [
    "<b>Building Model</b>"
   ]
  },
  {
   "cell_type": "code",
   "execution_count": 15,
   "id": "27b9afda",
   "metadata": {},
   "outputs": [
    {
     "name": "stderr",
     "output_type": "stream",
     "text": [
      "2023-04-28 13:52:49.971439: I tensorflow/core/common_runtime/executor.cc:1197] [/device:CPU:0] (DEBUG INFO) Executor start aborting (this does not indicate an error and you can ignore this message): INVALID_ARGUMENT: You must feed a value for placeholder tensor 'gradients/split_2_grad/concat/split_2/split_dim' with dtype int32\n",
      "\t [[{{node gradients/split_2_grad/concat/split_2/split_dim}}]]\n",
      "2023-04-28 13:52:49.973407: I tensorflow/core/common_runtime/executor.cc:1197] [/device:CPU:0] (DEBUG INFO) Executor start aborting (this does not indicate an error and you can ignore this message): INVALID_ARGUMENT: You must feed a value for placeholder tensor 'gradients/split_grad/concat/split/split_dim' with dtype int32\n",
      "\t [[{{node gradients/split_grad/concat/split/split_dim}}]]\n",
      "2023-04-28 13:52:49.974880: I tensorflow/core/common_runtime/executor.cc:1197] [/device:CPU:0] (DEBUG INFO) Executor start aborting (this does not indicate an error and you can ignore this message): INVALID_ARGUMENT: You must feed a value for placeholder tensor 'gradients/split_1_grad/concat/split_1/split_dim' with dtype int32\n",
      "\t [[{{node gradients/split_1_grad/concat/split_1/split_dim}}]]\n",
      "2023-04-28 13:52:50.228134: I tensorflow/core/common_runtime/executor.cc:1197] [/device:CPU:0] (DEBUG INFO) Executor start aborting (this does not indicate an error and you can ignore this message): INVALID_ARGUMENT: You must feed a value for placeholder tensor 'gradients/split_2_grad/concat/split_2/split_dim' with dtype int32\n",
      "\t [[{{node gradients/split_2_grad/concat/split_2/split_dim}}]]\n",
      "2023-04-28 13:52:50.230266: I tensorflow/core/common_runtime/executor.cc:1197] [/device:CPU:0] (DEBUG INFO) Executor start aborting (this does not indicate an error and you can ignore this message): INVALID_ARGUMENT: You must feed a value for placeholder tensor 'gradients/split_grad/concat/split/split_dim' with dtype int32\n",
      "\t [[{{node gradients/split_grad/concat/split/split_dim}}]]\n",
      "2023-04-28 13:52:50.232021: I tensorflow/core/common_runtime/executor.cc:1197] [/device:CPU:0] (DEBUG INFO) Executor start aborting (this does not indicate an error and you can ignore this message): INVALID_ARGUMENT: You must feed a value for placeholder tensor 'gradients/split_1_grad/concat/split_1/split_dim' with dtype int32\n",
      "\t [[{{node gradients/split_1_grad/concat/split_1/split_dim}}]]\n"
     ]
    }
   ],
   "source": [
    "\"\"\" \n",
    "start with Long-Short-Term Memory model as recurent neural network (RNN)\n",
    "contains 128 neurons \n",
    "has a 3D shape -- timesteps (input-sequence) n_words and features (# of dimensions) len(unique_tokens)\n",
    "return_sequences parameter is true since there is another LSTM layer next within RNN\n",
    "\"\"\"\n",
    "model = Sequential()\n",
    "model.add(LSTM(128, input_shape=(n_words, len(unique_tokens)), return_sequences=True))\n",
    "\n",
    "# next LSTM layer with 128 neurons\n",
    "model.add(LSTM(128))\n",
    "\n",
    "# next Dense fully-connected layer with len(unique_tokens) amount of neurons\n",
    "model.add(Dense(len(unique_tokens)))\n",
    "\n",
    "# last Activation layer is softmax to convert output to probability distribution \n",
    "model.add(Activation(\"softmax\"))"
   ]
  },
  {
   "cell_type": "code",
   "execution_count": 16,
   "id": "987a67bc",
   "metadata": {},
   "outputs": [
    {
     "name": "stdout",
     "output_type": "stream",
     "text": [
      "Epoch 1/30\n"
     ]
    },
    {
     "name": "stderr",
     "output_type": "stream",
     "text": [
      "2023-04-28 13:52:50.710211: I tensorflow/core/common_runtime/executor.cc:1197] [/device:CPU:0] (DEBUG INFO) Executor start aborting (this does not indicate an error and you can ignore this message): INVALID_ARGUMENT: You must feed a value for placeholder tensor 'gradients/split_2_grad/concat/split_2/split_dim' with dtype int32\n",
      "\t [[{{node gradients/split_2_grad/concat/split_2/split_dim}}]]\n",
      "2023-04-28 13:52:50.712076: I tensorflow/core/common_runtime/executor.cc:1197] [/device:CPU:0] (DEBUG INFO) Executor start aborting (this does not indicate an error and you can ignore this message): INVALID_ARGUMENT: You must feed a value for placeholder tensor 'gradients/split_grad/concat/split/split_dim' with dtype int32\n",
      "\t [[{{node gradients/split_grad/concat/split/split_dim}}]]\n",
      "2023-04-28 13:52:50.713972: I tensorflow/core/common_runtime/executor.cc:1197] [/device:CPU:0] (DEBUG INFO) Executor start aborting (this does not indicate an error and you can ignore this message): INVALID_ARGUMENT: You must feed a value for placeholder tensor 'gradients/split_1_grad/concat/split_1/split_dim' with dtype int32\n",
      "\t [[{{node gradients/split_1_grad/concat/split_1/split_dim}}]]\n",
      "2023-04-28 13:52:50.964205: I tensorflow/core/common_runtime/executor.cc:1197] [/device:CPU:0] (DEBUG INFO) Executor start aborting (this does not indicate an error and you can ignore this message): INVALID_ARGUMENT: You must feed a value for placeholder tensor 'gradients/split_2_grad/concat/split_2/split_dim' with dtype int32\n",
      "\t [[{{node gradients/split_2_grad/concat/split_2/split_dim}}]]\n",
      "2023-04-28 13:52:50.966027: I tensorflow/core/common_runtime/executor.cc:1197] [/device:CPU:0] (DEBUG INFO) Executor start aborting (this does not indicate an error and you can ignore this message): INVALID_ARGUMENT: You must feed a value for placeholder tensor 'gradients/split_grad/concat/split/split_dim' with dtype int32\n",
      "\t [[{{node gradients/split_grad/concat/split/split_dim}}]]\n",
      "2023-04-28 13:52:50.968132: I tensorflow/core/common_runtime/executor.cc:1197] [/device:CPU:0] (DEBUG INFO) Executor start aborting (this does not indicate an error and you can ignore this message): INVALID_ARGUMENT: You must feed a value for placeholder tensor 'gradients/split_1_grad/concat/split_1/split_dim' with dtype int32\n",
      "\t [[{{node gradients/split_1_grad/concat/split_1/split_dim}}]]\n",
      "2023-04-28 13:52:52.011861: I tensorflow/core/common_runtime/executor.cc:1197] [/device:CPU:0] (DEBUG INFO) Executor start aborting (this does not indicate an error and you can ignore this message): INVALID_ARGUMENT: You must feed a value for placeholder tensor 'gradients/split_2_grad/concat/split_2/split_dim' with dtype int32\n",
      "\t [[{{node gradients/split_2_grad/concat/split_2/split_dim}}]]\n",
      "2023-04-28 13:52:52.013714: I tensorflow/core/common_runtime/executor.cc:1197] [/device:CPU:0] (DEBUG INFO) Executor start aborting (this does not indicate an error and you can ignore this message): INVALID_ARGUMENT: You must feed a value for placeholder tensor 'gradients/split_grad/concat/split/split_dim' with dtype int32\n",
      "\t [[{{node gradients/split_grad/concat/split/split_dim}}]]\n",
      "2023-04-28 13:52:52.015532: I tensorflow/core/common_runtime/executor.cc:1197] [/device:CPU:0] (DEBUG INFO) Executor start aborting (this does not indicate an error and you can ignore this message): INVALID_ARGUMENT: You must feed a value for placeholder tensor 'gradients/split_1_grad/concat/split_1/split_dim' with dtype int32\n",
      "\t [[{{node gradients/split_1_grad/concat/split_1/split_dim}}]]\n",
      "2023-04-28 13:52:52.272190: I tensorflow/core/common_runtime/executor.cc:1197] [/device:CPU:0] (DEBUG INFO) Executor start aborting (this does not indicate an error and you can ignore this message): INVALID_ARGUMENT: You must feed a value for placeholder tensor 'gradients/split_2_grad/concat/split_2/split_dim' with dtype int32\n",
      "\t [[{{node gradients/split_2_grad/concat/split_2/split_dim}}]]\n",
      "2023-04-28 13:52:52.274341: I tensorflow/core/common_runtime/executor.cc:1197] [/device:CPU:0] (DEBUG INFO) Executor start aborting (this does not indicate an error and you can ignore this message): INVALID_ARGUMENT: You must feed a value for placeholder tensor 'gradients/split_grad/concat/split/split_dim' with dtype int32\n",
      "\t [[{{node gradients/split_grad/concat/split/split_dim}}]]\n",
      "2023-04-28 13:52:52.276196: I tensorflow/core/common_runtime/executor.cc:1197] [/device:CPU:0] (DEBUG INFO) Executor start aborting (this does not indicate an error and you can ignore this message): INVALID_ARGUMENT: You must feed a value for placeholder tensor 'gradients/split_1_grad/concat/split_1/split_dim' with dtype int32\n",
      "\t [[{{node gradients/split_1_grad/concat/split_1/split_dim}}]]\n"
     ]
    },
    {
     "name": "stdout",
     "output_type": "stream",
     "text": [
      "529/529 [==============================] - 94s 169ms/step - loss: 6.2829 - accuracy: 0.1089\n",
      "Epoch 2/30\n",
      "529/529 [==============================] - 98s 185ms/step - loss: 5.8090 - accuracy: 0.1506\n",
      "Epoch 3/30\n",
      "529/529 [==============================] - 95s 180ms/step - loss: 5.5342 - accuracy: 0.1706\n",
      "Epoch 4/30\n",
      "529/529 [==============================] - 92s 175ms/step - loss: 5.3137 - accuracy: 0.1868\n",
      "Epoch 5/30\n",
      "529/529 [==============================] - 94s 178ms/step - loss: 5.1084 - accuracy: 0.2038\n",
      "Epoch 6/30\n",
      "529/529 [==============================] - 100s 190ms/step - loss: 4.9009 - accuracy: 0.2207\n",
      "Epoch 7/30\n",
      "529/529 [==============================] - 102s 193ms/step - loss: 4.6873 - accuracy: 0.2409\n",
      "Epoch 8/30\n",
      "529/529 [==============================] - 99s 187ms/step - loss: 4.4621 - accuracy: 0.2627\n",
      "Epoch 9/30\n",
      "529/529 [==============================] - 101s 190ms/step - loss: 4.2288 - accuracy: 0.2905\n",
      "Epoch 10/30\n",
      "529/529 [==============================] - 99s 188ms/step - loss: 3.9978 - accuracy: 0.3175\n",
      "Epoch 11/30\n",
      "529/529 [==============================] - 99s 187ms/step - loss: 3.7742 - accuracy: 0.3453\n",
      "Epoch 12/30\n",
      "529/529 [==============================] - 99s 187ms/step - loss: 3.5584 - accuracy: 0.3758\n",
      "Epoch 13/30\n",
      "529/529 [==============================] - 102s 192ms/step - loss: 3.3564 - accuracy: 0.4053\n",
      "Epoch 14/30\n",
      "529/529 [==============================] - 101s 191ms/step - loss: 3.1676 - accuracy: 0.4318\n",
      "Epoch 15/30\n",
      "529/529 [==============================] - 101s 190ms/step - loss: 2.9973 - accuracy: 0.4585\n",
      "Epoch 16/30\n",
      "529/529 [==============================] - 99s 187ms/step - loss: 2.8301 - accuracy: 0.4870\n",
      "Epoch 17/30\n",
      "529/529 [==============================] - 96s 181ms/step - loss: 2.6879 - accuracy: 0.5090\n",
      "Epoch 18/30\n",
      "529/529 [==============================] - 101s 192ms/step - loss: 2.5501 - accuracy: 0.5347\n",
      "Epoch 19/30\n",
      "529/529 [==============================] - 98s 186ms/step - loss: 2.4240 - accuracy: 0.5560\n",
      "Epoch 20/30\n",
      "529/529 [==============================] - 98s 186ms/step - loss: 2.3103 - accuracy: 0.5764\n",
      "Epoch 21/30\n",
      "529/529 [==============================] - 100s 189ms/step - loss: 2.2035 - accuracy: 0.5944\n",
      "Epoch 22/30\n",
      "529/529 [==============================] - 97s 184ms/step - loss: 2.1046 - accuracy: 0.6136\n",
      "Epoch 23/30\n",
      "529/529 [==============================] - 102s 192ms/step - loss: 2.0135 - accuracy: 0.6312\n",
      "Epoch 24/30\n",
      "529/529 [==============================] - 97s 183ms/step - loss: 1.9319 - accuracy: 0.6466\n",
      "Epoch 25/30\n",
      "529/529 [==============================] - 99s 188ms/step - loss: 1.8493 - accuracy: 0.6622\n",
      "Epoch 26/30\n",
      "529/529 [==============================] - 100s 190ms/step - loss: 1.7693 - accuracy: 0.6773\n",
      "Epoch 27/30\n",
      "529/529 [==============================] - 103s 194ms/step - loss: 1.6966 - accuracy: 0.6933\n",
      "Epoch 28/30\n",
      "529/529 [==============================] - 100s 189ms/step - loss: 1.6307 - accuracy: 0.7082\n",
      "Epoch 29/30\n",
      "529/529 [==============================] - 104s 196ms/step - loss: 1.5624 - accuracy: 0.7204\n",
      "Epoch 30/30\n",
      "529/529 [==============================] - 102s 192ms/step - loss: 1.4952 - accuracy: 0.7369\n"
     ]
    },
    {
     "data": {
      "text/plain": [
       "<keras.callbacks.History at 0x7f8d910cbfa0>"
      ]
     },
     "execution_count": 16,
     "metadata": {},
     "output_type": "execute_result"
    }
   ],
   "source": [
    "# model configuration\n",
    "model.compile(\n",
    "    # loss function for multi-class classifi\n",
    "    loss = \"categorical_crossentropy\",\n",
    "    # learning rate of 1%\n",
    "    optimizer = tensorflow.keras.optimizers.RMSprop(learning_rate=0.01), \n",
    "    # metrics to evaluate during training\n",
    "    metrics = [\"accuracy\"]\n",
    ")\n",
    "\n",
    "\"\"\"\n",
    "train model with fit function\n",
    "X as input, y as target\n",
    "128 samples at one time (conserve memory) over 30 iterations\n",
    "shuffling the samples within each epoch\n",
    "\"\"\"\n",
    "model.fit(X, y, batch_size=128, epochs=30, shuffle=True)"
   ]
  },
  {
   "cell_type": "code",
   "execution_count": 17,
   "id": "568945ae",
   "metadata": {},
   "outputs": [],
   "source": [
    "model.save(\"text_gen.h5\")"
   ]
  },
  {
   "cell_type": "code",
   "execution_count": 18,
   "id": "b6e2b823",
   "metadata": {},
   "outputs": [
    {
     "name": "stderr",
     "output_type": "stream",
     "text": [
      "2023-04-28 14:42:22.862312: I tensorflow/core/common_runtime/executor.cc:1197] [/device:CPU:0] (DEBUG INFO) Executor start aborting (this does not indicate an error and you can ignore this message): INVALID_ARGUMENT: You must feed a value for placeholder tensor 'gradients/split_2_grad/concat/split_2/split_dim' with dtype int32\n",
      "\t [[{{node gradients/split_2_grad/concat/split_2/split_dim}}]]\n",
      "2023-04-28 14:42:22.864388: I tensorflow/core/common_runtime/executor.cc:1197] [/device:CPU:0] (DEBUG INFO) Executor start aborting (this does not indicate an error and you can ignore this message): INVALID_ARGUMENT: You must feed a value for placeholder tensor 'gradients/split_grad/concat/split/split_dim' with dtype int32\n",
      "\t [[{{node gradients/split_grad/concat/split/split_dim}}]]\n",
      "2023-04-28 14:42:22.865896: I tensorflow/core/common_runtime/executor.cc:1197] [/device:CPU:0] (DEBUG INFO) Executor start aborting (this does not indicate an error and you can ignore this message): INVALID_ARGUMENT: You must feed a value for placeholder tensor 'gradients/split_1_grad/concat/split_1/split_dim' with dtype int32\n",
      "\t [[{{node gradients/split_1_grad/concat/split_1/split_dim}}]]\n",
      "2023-04-28 14:42:23.119381: I tensorflow/core/common_runtime/executor.cc:1197] [/device:CPU:0] (DEBUG INFO) Executor start aborting (this does not indicate an error and you can ignore this message): INVALID_ARGUMENT: You must feed a value for placeholder tensor 'gradients/split_2_grad/concat/split_2/split_dim' with dtype int32\n",
      "\t [[{{node gradients/split_2_grad/concat/split_2/split_dim}}]]\n",
      "2023-04-28 14:42:23.121083: I tensorflow/core/common_runtime/executor.cc:1197] [/device:CPU:0] (DEBUG INFO) Executor start aborting (this does not indicate an error and you can ignore this message): INVALID_ARGUMENT: You must feed a value for placeholder tensor 'gradients/split_grad/concat/split/split_dim' with dtype int32\n",
      "\t [[{{node gradients/split_grad/concat/split/split_dim}}]]\n",
      "2023-04-28 14:42:23.122642: I tensorflow/core/common_runtime/executor.cc:1197] [/device:CPU:0] (DEBUG INFO) Executor start aborting (this does not indicate an error and you can ignore this message): INVALID_ARGUMENT: You must feed a value for placeholder tensor 'gradients/split_1_grad/concat/split_1/split_dim' with dtype int32\n",
      "\t [[{{node gradients/split_1_grad/concat/split_1/split_dim}}]]\n"
     ]
    }
   ],
   "source": [
    "model = load_model(\"text_gen.h5\")"
   ]
  },
  {
   "cell_type": "code",
   "execution_count": 19,
   "id": "88a582e1",
   "metadata": {},
   "outputs": [],
   "source": [
    "def predict_next_words(input_text, n_best):\n",
    "    input_text = input_text.lower()\n",
    "\n",
    "    \"\"\" create 3D np array of zeros\n",
    "        1st dimension of 1 for the single sample with n amount of words\n",
    "        2nd dimension max length of input sequence\n",
    "        3rd dimension number of unique words or tokens in the dataset\n",
    "    \"\"\" \n",
    "    X = np.zeros((1, n_words, len(unique_tokens)))\n",
    "\n",
    "    # one hot encoding, finding position of words and setting them to 1 in np array\n",
    "    for i, word in enumerate(input_text.split()):\n",
    "        X[0, i, unique_tokens_index[word]] = 1\n",
    "    \n",
    "    # prediction function get predicted output from input X and gets the first value\n",
    "    predictions = model.predict(X)[0]\n",
    "    # partition n_best from the predictions array \n",
    "    return np.argpartition(predictions, -n_best)[-n_best:]"
   ]
  },
  {
   "cell_type": "code",
   "execution_count": 20,
   "id": "3a30b320",
   "metadata": {},
   "outputs": [
    {
     "name": "stderr",
     "output_type": "stream",
     "text": [
      "2023-04-28 14:42:23.704544: I tensorflow/core/common_runtime/executor.cc:1197] [/device:CPU:0] (DEBUG INFO) Executor start aborting (this does not indicate an error and you can ignore this message): INVALID_ARGUMENT: You must feed a value for placeholder tensor 'gradients/split_2_grad/concat/split_2/split_dim' with dtype int32\n",
      "\t [[{{node gradients/split_2_grad/concat/split_2/split_dim}}]]\n",
      "2023-04-28 14:42:23.706184: I tensorflow/core/common_runtime/executor.cc:1197] [/device:CPU:0] (DEBUG INFO) Executor start aborting (this does not indicate an error and you can ignore this message): INVALID_ARGUMENT: You must feed a value for placeholder tensor 'gradients/split_grad/concat/split/split_dim' with dtype int32\n",
      "\t [[{{node gradients/split_grad/concat/split/split_dim}}]]\n",
      "2023-04-28 14:42:23.707859: I tensorflow/core/common_runtime/executor.cc:1197] [/device:CPU:0] (DEBUG INFO) Executor start aborting (this does not indicate an error and you can ignore this message): INVALID_ARGUMENT: You must feed a value for placeholder tensor 'gradients/split_1_grad/concat/split_1/split_dim' with dtype int32\n",
      "\t [[{{node gradients/split_1_grad/concat/split_1/split_dim}}]]\n",
      "2023-04-28 14:42:23.946097: I tensorflow/core/common_runtime/executor.cc:1197] [/device:CPU:0] (DEBUG INFO) Executor start aborting (this does not indicate an error and you can ignore this message): INVALID_ARGUMENT: You must feed a value for placeholder tensor 'gradients/split_2_grad/concat/split_2/split_dim' with dtype int32\n",
      "\t [[{{node gradients/split_2_grad/concat/split_2/split_dim}}]]\n",
      "2023-04-28 14:42:23.948195: I tensorflow/core/common_runtime/executor.cc:1197] [/device:CPU:0] (DEBUG INFO) Executor start aborting (this does not indicate an error and you can ignore this message): INVALID_ARGUMENT: You must feed a value for placeholder tensor 'gradients/split_grad/concat/split/split_dim' with dtype int32\n",
      "\t [[{{node gradients/split_grad/concat/split/split_dim}}]]\n",
      "2023-04-28 14:42:23.949778: I tensorflow/core/common_runtime/executor.cc:1197] [/device:CPU:0] (DEBUG INFO) Executor start aborting (this does not indicate an error and you can ignore this message): INVALID_ARGUMENT: You must feed a value for placeholder tensor 'gradients/split_1_grad/concat/split_1/split_dim' with dtype int32\n",
      "\t [[{{node gradients/split_1_grad/concat/split_1/split_dim}}]]\n"
     ]
    },
    {
     "name": "stdout",
     "output_type": "stream",
     "text": [
      "1/1 [==============================] - 1s 897ms/step\n"
     ]
    },
    {
     "data": {
      "text/plain": [
       "array([2809, 1769, 3645, 1151,  500])"
      ]
     },
     "execution_count": 20,
     "metadata": {},
     "output_type": "execute_result"
    }
   ],
   "source": [
    "possible = predict_next_words(\"Consciousness at its heart is a part of the living\", 5)\n",
    "possible"
   ]
  },
  {
   "cell_type": "code",
   "execution_count": 21,
   "id": "2ccb8a43",
   "metadata": {},
   "outputs": [
    {
     "name": "stdout",
     "output_type": "stream",
     "text": [
      "['kinds', 'evils', 'passion', 'creatures', 'beings']\n"
     ]
    }
   ],
   "source": [
    "print([unique_tokens[idx] for idx in possible])"
   ]
  },
  {
   "cell_type": "code",
   "execution_count": 22,
   "id": "f9aa0028",
   "metadata": {},
   "outputs": [],
   "source": [
    "def generate_text(input_text, text_length, creativity=3):\n",
    "    word_sequence = input_text.split()\n",
    "    current = 0\n",
    "    for _ in range(text_length):\n",
    "        sub_sequence = \" \".join(tokenizer.tokenize(\" \".join(word_sequence).lower())[current:current+n_words])\n",
    "        try:\n",
    "            choice = unique_tokens[random.choice(predict_next_words(sub_sequence, creativity))]\n",
    "        except:\n",
    "            random.choice(unique_tokens)\n",
    "        word_sequence.append(choice)\n",
    "        current += 1\n",
    "    return \" \".join(word_sequence)"
   ]
  },
  {
   "cell_type": "code",
   "execution_count": 23,
   "id": "e0e1b45f",
   "metadata": {},
   "outputs": [
    {
     "name": "stdout",
     "output_type": "stream",
     "text": [
      "1/1 [==============================] - 0s 26ms/step\n",
      "1/1 [==============================] - 0s 27ms/step\n",
      "1/1 [==============================] - 0s 27ms/step\n",
      "1/1 [==============================] - 0s 26ms/step\n",
      "1/1 [==============================] - 0s 26ms/step\n",
      "1/1 [==============================] - 0s 27ms/step\n",
      "1/1 [==============================] - 0s 26ms/step\n",
      "1/1 [==============================] - 0s 26ms/step\n",
      "1/1 [==============================] - 0s 26ms/step\n",
      "1/1 [==============================] - 0s 26ms/step\n",
      "1/1 [==============================] - 0s 26ms/step\n",
      "1/1 [==============================] - 0s 26ms/step\n",
      "1/1 [==============================] - 0s 26ms/step\n",
      "1/1 [==============================] - 0s 26ms/step\n",
      "1/1 [==============================] - 0s 26ms/step\n",
      "1/1 [==============================] - 0s 26ms/step\n",
      "1/1 [==============================] - 0s 26ms/step\n",
      "1/1 [==============================] - 0s 26ms/step\n",
      "1/1 [==============================] - 0s 26ms/step\n",
      "1/1 [==============================] - 0s 26ms/step\n",
      "1/1 [==============================] - 0s 26ms/step\n",
      "1/1 [==============================] - 0s 26ms/step\n",
      "1/1 [==============================] - 0s 26ms/step\n",
      "1/1 [==============================] - 0s 26ms/step\n",
      "1/1 [==============================] - 0s 26ms/step\n",
      "1/1 [==============================] - 0s 26ms/step\n",
      "1/1 [==============================] - 0s 26ms/step\n",
      "1/1 [==============================] - 0s 26ms/step\n",
      "1/1 [==============================] - 0s 26ms/step\n",
      "1/1 [==============================] - 0s 26ms/step\n",
      "1/1 [==============================] - 0s 26ms/step\n",
      "1/1 [==============================] - 0s 26ms/step\n",
      "1/1 [==============================] - 0s 26ms/step\n",
      "1/1 [==============================] - 0s 26ms/step\n",
      "1/1 [==============================] - 0s 26ms/step\n",
      "1/1 [==============================] - 0s 26ms/step\n",
      "1/1 [==============================] - 0s 26ms/step\n",
      "1/1 [==============================] - 0s 26ms/step\n",
      "1/1 [==============================] - 0s 26ms/step\n",
      "1/1 [==============================] - 0s 26ms/step\n",
      "1/1 [==============================] - 0s 26ms/step\n",
      "1/1 [==============================] - 0s 26ms/step\n",
      "1/1 [==============================] - 0s 26ms/step\n",
      "1/1 [==============================] - 0s 26ms/step\n",
      "1/1 [==============================] - 0s 27ms/step\n",
      "1/1 [==============================] - 0s 26ms/step\n",
      "1/1 [==============================] - 0s 26ms/step\n",
      "1/1 [==============================] - 0s 26ms/step\n",
      "1/1 [==============================] - 0s 26ms/step\n",
      "1/1 [==============================] - 0s 26ms/step\n",
      "1/1 [==============================] - 0s 26ms/step\n",
      "1/1 [==============================] - 0s 26ms/step\n",
      "1/1 [==============================] - 0s 26ms/step\n",
      "1/1 [==============================] - 0s 26ms/step\n",
      "1/1 [==============================] - 0s 26ms/step\n",
      "1/1 [==============================] - 0s 26ms/step\n",
      "1/1 [==============================] - 0s 26ms/step\n",
      "1/1 [==============================] - 0s 26ms/step\n",
      "1/1 [==============================] - 0s 26ms/step\n",
      "1/1 [==============================] - 0s 26ms/step\n",
      "1/1 [==============================] - 0s 26ms/step\n",
      "1/1 [==============================] - 0s 26ms/step\n",
      "1/1 [==============================] - 0s 26ms/step\n",
      "1/1 [==============================] - 0s 26ms/step\n",
      "1/1 [==============================] - 0s 26ms/step\n",
      "1/1 [==============================] - 0s 26ms/step\n",
      "1/1 [==============================] - 0s 26ms/step\n",
      "1/1 [==============================] - 0s 26ms/step\n",
      "1/1 [==============================] - 0s 26ms/step\n",
      "1/1 [==============================] - 0s 26ms/step\n",
      "1/1 [==============================] - 0s 26ms/step\n",
      "1/1 [==============================] - 0s 26ms/step\n",
      "1/1 [==============================] - 0s 26ms/step\n",
      "1/1 [==============================] - 0s 26ms/step\n",
      "1/1 [==============================] - 0s 26ms/step\n"
     ]
    },
    {
     "data": {
      "text/plain": [
       "'Consciousness at its heart is a part of the living creatures that you have proved how control if they are not and blessed can be able to live in nature and day hence then two monkeys but the object of the most extremes after it happened that the king observed that of all the sand thinking of mind and the city were to be admitted to the buddha where the blessed one was there she had seen his see the buddha and they approached him'"
      ]
     },
     "execution_count": 23,
     "metadata": {},
     "output_type": "execute_result"
    }
   ],
   "source": [
    "generate_text(\"Consciousness at its heart is a part of the living\", 75, 1)"
   ]
  }
 ],
 "metadata": {
  "kernelspec": {
   "display_name": "Python 3 (ipykernel)",
   "language": "python",
   "name": "python3"
  },
  "language_info": {
   "codemirror_mode": {
    "name": "ipython",
    "version": 3
   },
   "file_extension": ".py",
   "mimetype": "text/x-python",
   "name": "python",
   "nbconvert_exporter": "python",
   "pygments_lexer": "ipython3",
   "version": "3.9.16"
  }
 },
 "nbformat": 4,
 "nbformat_minor": 5
}
